{
 "cells": [
  {
   "cell_type": "code",
   "execution_count": 1,
   "id": "32a2660c-a2c5-4b45-8a33-1449fd4a05ac",
   "metadata": {
    "tags": []
   },
   "outputs": [],
   "source": [
    "\n"
   ]
  },
  {
   "cell_type": "code",
   "execution_count": null,
   "id": "9f194896-19b1-4e0d-9a91-4c2339f2b2cf",
   "metadata": {},
   "outputs": [],
   "source": [
    "import vertexai\n",
    "from vertexai.generative_models import GenerativeModel, Part"
   ]
  },
  {
   "cell_type": "code",
   "execution_count": null,
   "id": "91259709-4d4f-4070-ba8d-203beadbc6a3",
   "metadata": {},
   "outputs": [],
   "source": [
    "def video_transcription(project_id: str, location: str) -> str:\n",
    "    # Initialize Vertex AI\n",
    "    vertexai.init(project=project_id, location=location)\n",
    "    # Load the model\n",
    "    vision_model = GenerativeModel(\"gemini-1.0-pro-vision\")\n",
    "    # Generate text\n",
    "    response = vision_model.generate_content(\n",
    "        [\n",
    "            Part.from_uri(\n",
    "                \"gs://cloud-samples-data/video/animals.mp4\", mime_type=\"video/mp4\"\n",
    "            ),\n",
    "            \"What is in the video?\",\n",
    "        ]\n",
    "    )\n",
    "    print(response)\n",
    "    return response.text"
   ]
  }
 ],
 "metadata": {
  "environment": {
   "kernel": "python3",
   "name": "common-cpu.m119",
   "type": "gcloud",
   "uri": "us-docker.pkg.dev/deeplearning-platform-release/gcr.io/base-cpu:m119"
  },
  "kernelspec": {
   "display_name": "Python 3",
   "language": "python",
   "name": "python3"
  },
  "language_info": {
   "codemirror_mode": {
    "name": "ipython",
    "version": 3
   },
   "file_extension": ".py",
   "mimetype": "text/x-python",
   "name": "python",
   "nbconvert_exporter": "python",
   "pygments_lexer": "ipython3",
   "version": "3.10.14"
  }
 },
 "nbformat": 4,
 "nbformat_minor": 5
}
